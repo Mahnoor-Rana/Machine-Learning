{
 "cells": [
  {
   "cell_type": "code",
   "execution_count": null,
   "id": "2550a961",
   "metadata": {},
   "outputs": [],
   "source": []
  },
  {
   "cell_type": "code",
   "execution_count": null,
   "id": "602e57a2",
   "metadata": {},
   "outputs": [],
   "source": []
  },
  {
   "cell_type": "code",
   "execution_count": 6,
   "id": "89739a1d",
   "metadata": {},
   "outputs": [],
   "source": [
    "import pandas as pd\n",
    "from sklearn.model_selection import train_test_split\n",
    "\n",
    "# Read the data\n",
    "X = pd.read_csv('train.csv', index_col='Id')\n",
    "X_test_full = pd.read_csv('test.csv', index_col='Id')\n",
    "\n",
    "# Remove rows with missing target, separate target from predictors\n",
    "X.dropna(axis=0, subset=['SalePrice'], inplace=True)\n",
    "y = X.SalePrice              \n",
    "X.drop(['SalePrice'], axis=1, inplace=True)\n"
   ]
  },
  {
   "cell_type": "code",
   "execution_count": 7,
   "id": "c8025e28",
   "metadata": {},
   "outputs": [],
   "source": [
    "# Break off validation set from training data\n",
    "X_train_full, X_valid_full, y_train, y_valid = train_test_split(X, y, train_size=0.8, test_size=0.2,\n",
    "                                                                random_state=0)\n",
    "\n",
    "# \"Cardinality\" means the number of unique values in a column\n",
    "# Select categorical columns with relatively low cardinality (convenient but arbitrary)\n",
    "low_cardinality_cols = [cname for cname in X_train_full.columns if X_train_full[cname].nunique() < 10 and \n",
    "                        X_train_full[cname].dtype == \"object\"]\n",
    "\n",
    "# Select numeric columns\n",
    "numeric_cols = [cname for cname in X_train_full.columns if X_train_full[cname].dtype in ['int64', 'float64']]\n",
    "\n",
    "# Keep selected columns only\n",
    "my_cols = low_cardinality_cols + numeric_cols\n",
    "X_train = X_train_full[my_cols].copy()\n",
    "X_valid = X_valid_full[my_cols].copy()\n",
    "X_test = X_test_full[my_cols].copy()\n",
    "\n",
    "# One-hot encode the data (to shorten the code, we use pandas)\n",
    "X_train = pd.get_dummies(X_train)\n",
    "X_valid = pd.get_dummies(X_valid)\n",
    "X_test = pd.get_dummies(X_test)\n",
    "X_train, X_valid = X_train.align(X_valid, join='left', axis=1)\n",
    "X_train, X_test = X_train.align(X_test, join='left', axis=1)"
   ]
  },
  {
   "cell_type": "code",
   "execution_count": 9,
   "id": "ea705a42",
   "metadata": {},
   "outputs": [
    {
     "data": {
      "text/plain": [
       "XGBRegressor(base_score=0.5, booster='gbtree', callbacks=None,\n",
       "             colsample_bylevel=1, colsample_bynode=1, colsample_bytree=1,\n",
       "             early_stopping_rounds=None, enable_categorical=False,\n",
       "             eval_metric=None, gamma=0, gpu_id=-1, grow_policy='depthwise',\n",
       "             importance_type=None, interaction_constraints='',\n",
       "             learning_rate=0.300000012, max_bin=256, max_cat_to_onehot=4,\n",
       "             max_delta_step=0, max_depth=6, max_leaves=0, min_child_weight=1,\n",
       "             missing=nan, monotone_constraints='()', n_estimators=100, n_jobs=0,\n",
       "             num_parallel_tree=1, predictor='auto', random_state=0, reg_alpha=0,\n",
       "             reg_lambda=1, ...)"
      ]
     },
     "execution_count": 9,
     "metadata": {},
     "output_type": "execute_result"
    }
   ],
   "source": [
    "from xgboost import XGBRegressor\n",
    "\n",
    "# Define the model\n",
    "my_model_1 = XGBRegressor() # Your code here\n",
    "\n",
    "# Fit the model\n",
    "my_model_1.fit(X_train,y_train)\n"
   ]
  },
  {
   "cell_type": "markdown",
   "id": "6d0f246a",
   "metadata": {},
   "source": [
    "## Predictions\n",
    "### Part B"
   ]
  },
  {
   "cell_type": "code",
   "execution_count": 11,
   "id": "b6ac925e",
   "metadata": {},
   "outputs": [
    {
     "data": {
      "text/plain": [
       "array([180517.48 , 147601.61 , 110418.016, 215847.9  ,  91681.88 ,\n",
       "       111870.805, 263483.72 , 148291.75 , 437694.56 , 161465.7  ,\n",
       "       185297.62 , 136833.62 , 233315.   , 121832.3  , 117813.96 ,\n",
       "       146678.56 , 224207.3  , 125697.555, 136710.3  , 192880.52 ,\n",
       "       128928.86 , 143064.06 , 110618.305, 157551.58 , 188069.22 ,\n",
       "       168270.64 , 180631.4  ,  72046.71 , 318782.62 , 101511.87 ,\n",
       "       119958.695, 183278.23 , 140170.33 , 267998.06 , 350595.5  ,\n",
       "       197427.33 , 303507.1  , 117701.734, 220137.88 , 316072.5  ,\n",
       "       238313.42 , 125487.84 , 187199.5  , 300181.97 , 290329.   ,\n",
       "       151480.44 , 123265.336, 131302.06 , 164329.92 ,  94760.18 ,\n",
       "       424280.53 , 144024.98 , 172232.47 ,  77216.875, 219971.62 ,\n",
       "       108312.39 , 144846.08 , 247667.4  , 141727.27 , 102231.555,\n",
       "       128807.63 , 132450.42 , 148109.34 , 164187.42 , 201151.25 ,\n",
       "       162853.72 , 131784.73 , 232565.34 , 120255.62 , 190808.64 ,\n",
       "       183987.61 , 132344.03 ,  78886.01 , 248834.08 ,  95061.55 ,\n",
       "       275745.9  , 120209.72 , 110833.74 , 283469.06 , 164837.05 ,\n",
       "       129709.42 , 129070.79 , 126978.234, 150255.11 , 202975.77 ,\n",
       "       199467.89 , 117296.09 , 197930.36 , 173342.45 , 141598.42 ,\n",
       "       198829.05 , 187153.52 , 185617.08 , 225451.12 , 169115.3  ,\n",
       "       138391.92 , 216383.77 , 167670.17 , 122875.56 , 146312.66 ,\n",
       "       249319.86 , 204821.58 , 122555.17 , 166206.05 ,  98512.914,\n",
       "       288124.7  , 152305.73 ,  99112.68 , 169100.33 , 119560.766,\n",
       "        88610.84 , 117071.24 , 209725.45 , 135692.78 , 164248.9  ,\n",
       "       159659.66 , 463843.34 , 128139.484, 193929.11 , 266226.78 ,\n",
       "       153947.4  , 165009.88 , 130009.516, 191727.45 , 221471.53 ,\n",
       "       212323.61 , 388514.5  , 193271.92 , 236343.25 , 162180.03 ,\n",
       "       168297.   , 195769.44 , 137027.53 , 177320.6  ,  94262.56 ,\n",
       "       227853.97 , 151931.27 , 178064.28 , 110270.86 , 161432.86 ,\n",
       "       146720.14 , 161949.03 , 246835.6  , 145050.2  , 156142.38 ,\n",
       "       171008.84 , 230444.66 , 146319.94 , 269246.   , 237558.94 ,\n",
       "       171928.11 , 375855.4  , 294487.8  , 155698.25 , 212771.1  ,\n",
       "       262385.8  , 128525.2  , 188863.92 , 125986.836, 176248.4  ,\n",
       "       125979.414, 145043.1  , 177991.12 , 108031.5  , 229381.1  ,\n",
       "       131601.27 , 167992.75 , 278273.97 , 184930.12 , 175036.48 ,\n",
       "       184800.83 , 150738.95 , 194736.16 , 166625.92 , 126537.44 ,\n",
       "       108436.62 , 140173.28 , 248892.78 ,  90940.016, 135388.94 ,\n",
       "       255148.28 , 200589.95 , 113114.22 , 307032.34 , 114293.06 ,\n",
       "       185644.92 ,  97640.15 , 195144.72 , 195602.61 , 135324.27 ,\n",
       "       136741.33 , 179384.3  , 205001.66 , 134860.2  , 128181.484,\n",
       "       155333.12 ,  79247.98 , 140153.78 , 172600.1  , 114506.35 ,\n",
       "       123148.055, 210618.16 , 114671.42 , 127186.23 , 135488.08 ,\n",
       "       183149.52 , 143863.55 , 338513.06 , 264386.7  ,  72928.6  ,\n",
       "       144264.34 , 275426.2  ,  92487.69 , 105343.03 , 354612.97 ,\n",
       "       225184.67 , 176059.97 , 297495.53 , 263818.5  ,  79240.67 ,\n",
       "       189836.56 , 148291.42 , 138269.19 , 120598.85 , 213279.2  ,\n",
       "       265941.8  , 236022.64 , 227716.12 , 131154.5  , 175107.81 ,\n",
       "        94839.68 , 153391.8  ,  96470.35 , 134738.05 , 235598.61 ,\n",
       "       129303.95 , 128798.48 , 119262.36 ,  87119.84 , 172380.   ,\n",
       "       108871.7  , 198369.38 , 193379.92 , 208486.22 , 173693.08 ,\n",
       "       170677.4  , 222781.67 , 188734.22 , 143519.5  , 198512.84 ,\n",
       "       179081.84 , 277090.75 ,  88492.125, 437903.38 , 248599.2  ,\n",
       "       229395.97 , 102154.945, 200606.27 , 376231.3  , 240874.9  ,\n",
       "       235062.66 , 109102.46 , 130005.48 , 104644.91 , 418331.97 ,\n",
       "       328011.06 , 356338.16 ,  74192.26 , 230947.44 , 265552.75 ,\n",
       "       131763.19 , 257006.05 , 148668.19 , 177287.08 , 117225.27 ,\n",
       "       241551.28 , 245856.98 , 184725.92 , 220352.66 , 117282.49 ,\n",
       "       126877.41 , 361860.2  , 166568.66 , 100755.58 , 192121.23 ,\n",
       "       158833.31 , 122723.336, 266899.66 , 473221.66 , 168579.64 ,\n",
       "        81060.09 ,  92210.27 ], dtype=float32)"
      ]
     },
     "execution_count": 11,
     "metadata": {},
     "output_type": "execute_result"
    }
   ],
   "source": [
    "from sklearn.metrics import mean_absolute_error\n",
    "\n",
    "\n",
    "# Get predictions\n",
    "predictions_1 = my_model_1.predict(X_valid)\n",
    "predictions_1"
   ]
  },
  {
   "cell_type": "code",
   "execution_count": 13,
   "id": "7006fdba",
   "metadata": {},
   "outputs": [
    {
     "name": "stdout",
     "output_type": "stream",
     "text": [
      "Mean Absolute Error: 17662.736729452055\n"
     ]
    }
   ],
   "source": [
    "# Calculate MAE\n",
    "mae_1 = mean_absolute_error(predictions_1,y_valid) # Your code here\n",
    "\n",
    "print(\"Mean Absolute Error:\" , mae_1)\n"
   ]
  },
  {
   "cell_type": "markdown",
   "id": "11852c6a",
   "metadata": {},
   "source": [
    "## Step 2: Improve the model"
   ]
  },
  {
   "cell_type": "code",
   "execution_count": 14,
   "id": "d02191ae",
   "metadata": {},
   "outputs": [
    {
     "name": "stdout",
     "output_type": "stream",
     "text": [
      "Mean Absolute Error: 16688.691513270547\n"
     ]
    }
   ],
   "source": [
    "my_model_2 = XGBRegressor(n_estimators=1000, learning_rate=0.05)\n",
    "\n",
    "# Fit the model\n",
    "my_model_2.fit(X_train, y_train)\n",
    "\n",
    "# Get predictions\n",
    "predictions_2 = my_model_2.predict(X_valid)\n",
    "\n",
    "# Calculate MAE\n",
    "mae_2 = mean_absolute_error(predictions_2, y_valid)\n",
    "print(\"Mean Absolute Error:\" , mae_2)"
   ]
  },
  {
   "cell_type": "markdown",
   "id": "9efa50b8",
   "metadata": {},
   "source": [
    "## Step 3: Break the model\n",
    "In this step, you will create a model that performs worse than the original model in Step 1. This will help you to develop your intuition for how to set parameters. You might even find that you accidentally get better performance, which is ultimately a nice problem to have and a valuable learning experience!\n",
    "\n",
    "Begin by setting my_model_3 to an XGBoost model, using the XGBRegressor class. Use what you learned in the previous tutorial to figure out how to change the default parameters (like n_estimators and learning_rate) to design a model to get high MAE.\n",
    "Then, fit the model to the training data in X_train and y_train.\n",
    "Set predictions_3 to the model's predictions for the validation data. Recall that the validation features are stored in X_valid.\n",
    "Finally, use the mean_absolute_error() function to calculate the mean absolute error (MAE) corresponding to the predictions on the validation set. Recall that the labels for the validation data are stored in y_valid."
   ]
  },
  {
   "cell_type": "code",
   "execution_count": 15,
   "id": "5f3df686",
   "metadata": {},
   "outputs": [
    {
     "name": "stdout",
     "output_type": "stream",
     "text": [
      "Mean Absolute Error: 127895.0828807256\n"
     ]
    }
   ],
   "source": [
    "# Define the model\n",
    "my_model_3 = XGBRegressor(n_estimators=1)\n",
    "# Fit the model\n",
    "my_model_3.fit(X_train, y_train)\n",
    "\n",
    "# Get predictions\n",
    "predictions_3 = my_model_3.predict(X_valid)\n",
    "\n",
    "# Calculate MAE\n",
    "mae_3 = mean_absolute_error(predictions_3, y_valid)\n",
    "print(\"Mean Absolute Error:\" , mae_3)\n"
   ]
  }
 ],
 "metadata": {
  "kernelspec": {
   "display_name": "Python 3 (ipykernel)",
   "language": "python",
   "name": "python3"
  },
  "language_info": {
   "codemirror_mode": {
    "name": "ipython",
    "version": 3
   },
   "file_extension": ".py",
   "mimetype": "text/x-python",
   "name": "python",
   "nbconvert_exporter": "python",
   "pygments_lexer": "ipython3",
   "version": "3.9.12"
  }
 },
 "nbformat": 4,
 "nbformat_minor": 5
}
